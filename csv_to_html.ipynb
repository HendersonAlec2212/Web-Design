{
 "cells": [
  {
   "cell_type": "code",
   "execution_count": 1,
   "id": "82514d1b",
   "metadata": {},
   "outputs": [
    {
     "data": {
      "text/plain": [
       "'C:\\\\Users\\\\Alec\\\\Documents\\\\Programming Resources\\\\Boot Camp\\\\11_Web_Dev\\\\Homework'"
      ]
     },
     "execution_count": 1,
     "metadata": {},
     "output_type": "execute_result"
    }
   ],
   "source": [
    "import pandas as pd\n",
    "import os\n",
    "\n",
    "os.getcwd()"
   ]
  },
  {
   "cell_type": "code",
   "execution_count": 3,
   "id": "4c1dddda",
   "metadata": {},
   "outputs": [],
   "source": [
    "# data paths\n",
    "csv_path = os.path.join('data', 'cities.csv')\n",
    "cities_csv = pd.read_csv(csv_path)"
   ]
  },
  {
   "cell_type": "code",
   "execution_count": 4,
   "id": "f16c01bc",
   "metadata": {},
   "outputs": [],
   "source": [
    "# make html table and save to file\n",
    "cities_csv.to_html('table.html', index=False, classes=['table'])"
   ]
  },
  {
   "cell_type": "code",
   "execution_count": null,
   "id": "0fd0cd22",
   "metadata": {},
   "outputs": [],
   "source": []
  }
 ],
 "metadata": {
  "kernelspec": {
   "display_name": "Python 3",
   "language": "python",
   "name": "python3"
  },
  "language_info": {
   "codemirror_mode": {
    "name": "ipython",
    "version": 3
   },
   "file_extension": ".py",
   "mimetype": "text/x-python",
   "name": "python",
   "nbconvert_exporter": "python",
   "pygments_lexer": "ipython3",
   "version": "3.8.8"
  }
 },
 "nbformat": 4,
 "nbformat_minor": 5
}
